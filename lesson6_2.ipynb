{
 "cells": [
  {
   "cell_type": "code",
   "execution_count": 3,
   "metadata": {},
   "outputs": [
    {
     "name": "stdout",
     "output_type": "stream",
     "text": [
      "{'證券代號': '0052', '證券名稱': '富邦科技', '成交股數': '161,425', '成交金額': '9,156,750', '開盤價': '57.60', '最高價': '57.60', '最低價': '55.35', '收盤價': '55.35', '漲跌價差': '-2.35', '成交筆數': '67'}\n"
     ]
    }
   ],
   "source": [
    "#處理csv檔\n",
    "import csv\n",
    "with open('個股日成交資訊.csv',mode='r',encoding='utf-8',newline='') as file:\n",
    "    csv_reader = csv.DictReader(file)\n",
    "    #print(type(csv_reader))\n",
    "    csv_list = list(csv_reader)\n",
    "    \n",
    "for item_dict in csv_list:\n",
    "    if item_dict['證券名稱'] == \"富邦科技\":\n",
    "        print(item_dict)\n",
    "    \n",
    "    #if \"富邦\" in item_dict['證券名稱']:\n",
    "    #    print(item_dict)"
   ]
  }
 ],
 "metadata": {
  "kernelspec": {
   "display_name": "Python 3",
   "language": "python",
   "name": "python3"
  },
  "language_info": {
   "codemirror_mode": {
    "name": "ipython",
    "version": 3
   },
   "file_extension": ".py",
   "mimetype": "text/x-python",
   "name": "python",
   "nbconvert_exporter": "python",
   "pygments_lexer": "ipython3",
   "version": "3.9.16"
  },
  "orig_nbformat": 4
 },
 "nbformat": 4,
 "nbformat_minor": 2
}
